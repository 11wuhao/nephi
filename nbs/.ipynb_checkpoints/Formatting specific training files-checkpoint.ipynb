{
 "cells": [
  {
   "cell_type": "code",
   "execution_count": 7,
   "metadata": {
    "collapsed": true
   },
   "outputs": [],
   "source": [
    "import os\n",
    "import sys\n",
    "from glob import glob\n",
    "import shutil"
   ]
  },
  {
   "cell_type": "code",
   "execution_count": 3,
   "metadata": {
    "collapsed": false
   },
   "outputs": [],
   "source": [
    "spec_data = \"/home/ubuntu/datasets/read_ICFHR/specific_data\"\n",
    "spec_tr_lists_dir = \"/home/ubuntu/datasets/read_ICFHR/specific_data_train_list\"\n",
    "spec_lists_files = glob(os.path.join(spec_tr_lists_dir, \"*\"))"
   ]
  },
  {
   "cell_type": "code",
   "execution_count": 4,
   "metadata": {
    "collapsed": false
   },
   "outputs": [
    {
     "data": {
      "text/plain": [
       "['/home/ubuntu/datasets/read_ICFHR/specific_data_train_list/30866_train_1.lst',\n",
       " '/home/ubuntu/datasets/read_ICFHR/specific_data_train_list/30882_train_4.lst',\n",
       " '/home/ubuntu/datasets/read_ICFHR/specific_data_train_list/30882_train_1.lst',\n",
       " '/home/ubuntu/datasets/read_ICFHR/specific_data_train_list/35013_train_4.lst',\n",
       " '/home/ubuntu/datasets/read_ICFHR/specific_data_train_list/35015_train_16.lst',\n",
       " '/home/ubuntu/datasets/read_ICFHR/specific_data_train_list/30866_train_16.lst',\n",
       " '/home/ubuntu/datasets/read_ICFHR/specific_data_train_list/30893_train_16.lst',\n",
       " '/home/ubuntu/datasets/read_ICFHR/specific_data_train_list/30882_train_16.lst',\n",
       " '/home/ubuntu/datasets/read_ICFHR/specific_data_train_list/35015_train_1.lst',\n",
       " '/home/ubuntu/datasets/read_ICFHR/specific_data_train_list/30893_train_4.lst',\n",
       " '/home/ubuntu/datasets/read_ICFHR/specific_data_train_list/35013_train_1.lst',\n",
       " '/home/ubuntu/datasets/read_ICFHR/specific_data_train_list/35015_train_4.lst',\n",
       " '/home/ubuntu/datasets/read_ICFHR/specific_data_train_list/30866_train_4.lst',\n",
       " '/home/ubuntu/datasets/read_ICFHR/specific_data_train_list/30893_train_1.lst',\n",
       " '/home/ubuntu/datasets/read_ICFHR/specific_data_train_list/35013_train_16.lst']"
      ]
     },
     "execution_count": 4,
     "metadata": {},
     "output_type": "execute_result"
    }
   ],
   "source": [
    "spec_lists_files"
   ]
  },
  {
   "cell_type": "code",
   "execution_count": 24,
   "metadata": {
    "collapsed": false
   },
   "outputs": [
    {
     "name": "stdout",
     "output_type": "stream",
     "text": [
      "/home/ubuntu/datasets/read_ICFHR/specific_data_train_list/30882_train_4.lst\n",
      "/home/ubuntu/datasets/read_ICFHR/specific_data_train_list/30882_train_1.lst\n",
      "/home/ubuntu/datasets/read_ICFHR/specific_data_train_list/30882_train_16.lst\n"
     ]
    }
   ],
   "source": [
    "for f in spec_lists_files:\n",
    "    if \"30882\" in f:\n",
    "        print(f)"
   ]
  },
  {
   "cell_type": "code",
   "execution_count": null,
   "metadata": {
    "collapsed": true
   },
   "outputs": [],
   "source": [
    "with open(spec_lists_files[1], \"r\") as f:\n",
    "    \n",
    "    print(f.read())"
   ]
  },
  {
   "cell_type": "code",
   "execution_count": 6,
   "metadata": {
    "collapsed": false
   },
   "outputs": [
    {
     "name": "stdout",
     "output_type": "stream",
     "text": [
      "30882_0004_1065839_region_1439904809242_204_line_1439904834897_206.jpg\n",
      "30882_0004_1065839_region_1439904809242_204_line_1439904843793_207.jpg\n",
      "30882_0004_1065839_region_1439904809242_204_line_1439904853185_208.jpg\n",
      "30882_0004_1065839_region_1439904809242_204_line_1439904869649_209.jpg\n",
      "30882_0004_1065839_region_1439904809242_204_line_1439904881136_210.jpg\n",
      "30882_0004_1065839_region_1439904809242_204_line_1439904890756_211.jpg\n",
      "30882_0004_1065839_region_1439904809242_204_line_1439904904562_212.jpg\n",
      "30882_0004_1065839_region_1439904809242_204_line_1439904914236_213.jpg\n",
      "30882_0004_1065839_region_1439904809242_204_line_1439904927283_214.jpg\n",
      "30882_0004_1065839_region_1439904809242_204_line_1439904941685_215.jpg\n",
      "30882_0004_1065839_region_1439904809242_204_line_1439904955219_216.jpg\n",
      "30882_0004_1065839_region_1439904809242_204_line_1439904965800_217.jpg\n",
      "30882_0004_1065839_region_1439904809242_204_line_1439904980099_218.jpg\n",
      "30882_0004_1065839_region_1439904809242_204_line_1439904991252_219.jpg\n",
      "30882_0004_1065839_region_1439904809242_204_line_1439904997120_220.jpg\n",
      "30882_0004_1065839_region_1439904814953_205_line_1439905012257_221.jpg\n",
      "30882_0004_1065839_region_1439904814953_205_line_1439905021950_222.jpg\n",
      "30882_0004_1065839_region_1439904814953_205_line_1439905030978_223.jpg\n",
      "30882_0004_1065839_region_1439904814953_205_line_1439905042317_224.jpg\n",
      "30882_0004_1065839_region_1439904814953_205_line_1439905050739_225.jpg\n",
      "30882_0004_1065839_region_1439904814953_205_line_1439905059558_226.jpg\n",
      "30882_0005_1065848_region_1439905076838_227_line_1439905187367_235.jpg\n",
      "30882_0005_1065848_region_1439905076838_227_line_1439905197406_236.jpg\n",
      "30882_0005_1065848_region_1439905076838_227_line_1439905207691_237.jpg\n",
      "30882_0005_1065848_region_1439905076838_227_line_1439905221082_238.jpg\n",
      "30882_0005_1065848_region_1439905076838_227_line_1439905231902_239.jpg\n",
      "30882_0005_1065848_region_1439905076838_227_line_1439905243129_240.jpg\n",
      "30882_0005_1065848_region_1439905076838_227_line_1439905253367_241.jpg\n",
      "30882_0005_1065848_region_1439905076838_227_line_1439905266483_242.jpg\n",
      "30882_0005_1065848_region_1439905076838_227_line_1439905275154_243.jpg\n",
      "30882_0005_1065848_region_1439905076838_227_line_1439905285409_244.jpg\n",
      "30882_0005_1065848_region_1439905076838_227_line_1439905293800_245.jpg\n",
      "30882_0005_1065848_region_1439905076838_227_line_1439905302922_246.jpg\n",
      "30882_0005_1065848_region_1439905076838_227_line_1439905312008_247.jpg\n",
      "30882_0005_1065848_region_1439905076838_227_line_1439905320964_248.jpg\n",
      "30882_0005_1065848_region_1439905076838_227_line_1439905096146_228.jpg\n",
      "30882_0005_1065848_region_1439905076838_227_line_1439905105822_229.jpg\n",
      "30882_0005_1065848_region_1439905076838_227_line_1439905118154_230.jpg\n",
      "30882_0005_1065848_region_1439905076838_227_line_1439905129236_231.jpg\n",
      "30882_0005_1065848_region_1439905076838_227_line_1439905139331_232.jpg\n",
      "30882_0005_1065848_region_1439905076838_227_line_1439905150315_233.jpg\n",
      "30882_0005_1065848_region_1439905076838_227_line_1439905177194_234.jpg\n",
      "30882_0006_1065855_region_1440055363687_52_line_1440055403135_54.jpg\n",
      "30882_0006_1065855_region_1440055363687_52_line_1440055543553_55.jpg\n",
      "30882_0006_1065855_region_1440055363687_52_line_1440055552573_56.jpg\n",
      "30882_0006_1065855_region_1440055363687_52_line_1440055561143_57.jpg\n",
      "30882_0006_1065855_region_1440055363687_52_line_1440055571240_58.jpg\n",
      "30882_0006_1065855_region_1440055363687_52_line_1440055582158_59.jpg\n",
      "30882_0006_1065855_region_1440055363687_52_line_1440055597103_60.jpg\n",
      "30882_0006_1065855_region_1440055363687_52_line_1440055610098_61.jpg\n",
      "30882_0006_1065855_region_1440055363687_52_line_1440055621965_62.jpg\n",
      "30882_0006_1065855_region_1440055363687_52_line_1440055633160_63.jpg\n",
      "30882_0006_1065855_region_1440055363687_52_line_1440055643466_64.jpg\n",
      "30882_0006_1065855_region_1440055363687_52_line_1440055653990_65.jpg\n",
      "30882_0006_1065855_region_1440055363687_52_line_1440055663525_66.jpg\n",
      "30882_0006_1065855_region_1440055363687_52_line_1440055672291_67.jpg\n",
      "30882_0006_1065855_region_1440055363687_52_line_1440055687942_68.jpg\n",
      "30882_0006_1065855_region_1440055363687_52_line_1440055699362_69.jpg\n",
      "30882_0006_1065855_region_1440055363687_52_line_1440055709822_70.jpg\n",
      "30882_0006_1065855_region_1440055363687_52_line_1440055717529_71.jpg\n",
      "30882_0006_1065855_region_1440055363687_52_line_1440055729141_72.jpg\n",
      "30882_0006_1065855_region_1440055363687_52_line_1440055740954_73.jpg\n",
      "30882_0006_1065855_region_1440055363687_52_line_1440055749516_74.jpg\n",
      "30882_0007_1065865_region_1440055788947_75_line_1440055810171_76.jpg\n",
      "30882_0007_1065865_region_1440055788947_75_line_1440055823899_77.jpg\n",
      "30882_0007_1065865_region_1440055788947_75_line_1440055835707_78.jpg\n",
      "30882_0007_1065865_region_1440055788947_75_line_1440056039968_79.jpg\n",
      "30882_0007_1065865_region_1440055788947_75_line_1440056054235_80.jpg\n",
      "30882_0007_1065865_region_1440055788947_75_line_1440056067470_81.jpg\n",
      "30882_0007_1065865_region_1440055788947_75_line_1440056079082_82.jpg\n",
      "30882_0007_1065865_region_1440055788947_75_line_1440056091254_83.jpg\n",
      "30882_0007_1065865_region_1440055788947_75_line_1440056105239_84.jpg\n",
      "30882_0007_1065865_region_1440055788947_75_line_1440056117318_85.jpg\n",
      "30882_0007_1065865_region_1440055788947_75_line_1440056317770_86.jpg\n",
      "30882_0007_1065865_region_1440055788947_75_line_1440056324482_87.jpg\n",
      "30882_0007_1065865_region_1440055788947_75_line_1440056336411_88.jpg\n",
      "30882_0007_1065865_region_1440055788947_75_line_1440056345850_89.jpg\n",
      "30882_0007_1065865_region_1440055788947_75_line_1440056360825_90.jpg\n",
      "30882_0007_1065865_region_1440055788947_75_line_1440056374068_91.jpg\n",
      "30882_0007_1065865_region_1440055788947_75_line_1440056385004_92.jpg\n",
      "30882_0007_1065865_region_1440055788947_75_line_1440056393441_93.jpg\n",
      "30882_0007_1065865_region_1440055788947_75_line_1440056403426_94.jpg\n",
      "30882_0007_1065865_region_1440055788947_75_line_1440056414202_95.jpg\n",
      "30882_0007_1065865_region_1440055788947_75_line_1440056426134_96.jpg\n",
      "\n"
     ]
    }
   ],
   "source": [
    "    \n",
    "    folderPath = os.path.join('folder_name', os.path.basename(filePath))\n",
    "shutil.copyfile(filePath, folderPath)"
   ]
  },
  {
   "cell_type": "code",
   "execution_count": 9,
   "metadata": {
    "collapsed": false
   },
   "outputs": [
    {
     "name": "stdout",
     "output_type": "stream",
     "text": [
      "['30882_0004_1065839_region_1439904809242_204_line_1439904834897_206.jpg', '30882_0004_1065839_region_1439904809242_204_line_1439904843793_207.jpg', '30882_0004_1065839_region_1439904809242_204_line_1439904853185_208.jpg', '30882_0004_1065839_region_1439904809242_204_line_1439904869649_209.jpg', '30882_0004_1065839_region_1439904809242_204_line_1439904881136_210.jpg', '30882_0004_1065839_region_1439904809242_204_line_1439904890756_211.jpg', '30882_0004_1065839_region_1439904809242_204_line_1439904904562_212.jpg', '30882_0004_1065839_region_1439904809242_204_line_1439904914236_213.jpg', '30882_0004_1065839_region_1439904809242_204_line_1439904927283_214.jpg', '30882_0004_1065839_region_1439904809242_204_line_1439904941685_215.jpg', '30882_0004_1065839_region_1439904809242_204_line_1439904955219_216.jpg', '30882_0004_1065839_region_1439904809242_204_line_1439904965800_217.jpg', '30882_0004_1065839_region_1439904809242_204_line_1439904980099_218.jpg', '30882_0004_1065839_region_1439904809242_204_line_1439904991252_219.jpg', '30882_0004_1065839_region_1439904809242_204_line_1439904997120_220.jpg', '30882_0004_1065839_region_1439904814953_205_line_1439905012257_221.jpg', '30882_0004_1065839_region_1439904814953_205_line_1439905021950_222.jpg', '30882_0004_1065839_region_1439904814953_205_line_1439905030978_223.jpg', '30882_0004_1065839_region_1439904814953_205_line_1439905042317_224.jpg', '30882_0004_1065839_region_1439904814953_205_line_1439905050739_225.jpg', '30882_0004_1065839_region_1439904814953_205_line_1439905059558_226.jpg', '30882_0005_1065848_region_1439905076838_227_line_1439905187367_235.jpg', '30882_0005_1065848_region_1439905076838_227_line_1439905197406_236.jpg', '30882_0005_1065848_region_1439905076838_227_line_1439905207691_237.jpg', '30882_0005_1065848_region_1439905076838_227_line_1439905221082_238.jpg', '30882_0005_1065848_region_1439905076838_227_line_1439905231902_239.jpg', '30882_0005_1065848_region_1439905076838_227_line_1439905243129_240.jpg', '30882_0005_1065848_region_1439905076838_227_line_1439905253367_241.jpg', '30882_0005_1065848_region_1439905076838_227_line_1439905266483_242.jpg', '30882_0005_1065848_region_1439905076838_227_line_1439905275154_243.jpg', '30882_0005_1065848_region_1439905076838_227_line_1439905285409_244.jpg', '30882_0005_1065848_region_1439905076838_227_line_1439905293800_245.jpg', '30882_0005_1065848_region_1439905076838_227_line_1439905302922_246.jpg', '30882_0005_1065848_region_1439905076838_227_line_1439905312008_247.jpg', '30882_0005_1065848_region_1439905076838_227_line_1439905320964_248.jpg', '30882_0005_1065848_region_1439905076838_227_line_1439905096146_228.jpg', '30882_0005_1065848_region_1439905076838_227_line_1439905105822_229.jpg', '30882_0005_1065848_region_1439905076838_227_line_1439905118154_230.jpg', '30882_0005_1065848_region_1439905076838_227_line_1439905129236_231.jpg', '30882_0005_1065848_region_1439905076838_227_line_1439905139331_232.jpg', '30882_0005_1065848_region_1439905076838_227_line_1439905150315_233.jpg', '30882_0005_1065848_region_1439905076838_227_line_1439905177194_234.jpg', '30882_0006_1065855_region_1440055363687_52_line_1440055403135_54.jpg', '30882_0006_1065855_region_1440055363687_52_line_1440055543553_55.jpg', '30882_0006_1065855_region_1440055363687_52_line_1440055552573_56.jpg', '30882_0006_1065855_region_1440055363687_52_line_1440055561143_57.jpg', '30882_0006_1065855_region_1440055363687_52_line_1440055571240_58.jpg', '30882_0006_1065855_region_1440055363687_52_line_1440055582158_59.jpg', '30882_0006_1065855_region_1440055363687_52_line_1440055597103_60.jpg', '30882_0006_1065855_region_1440055363687_52_line_1440055610098_61.jpg', '30882_0006_1065855_region_1440055363687_52_line_1440055621965_62.jpg', '30882_0006_1065855_region_1440055363687_52_line_1440055633160_63.jpg', '30882_0006_1065855_region_1440055363687_52_line_1440055643466_64.jpg', '30882_0006_1065855_region_1440055363687_52_line_1440055653990_65.jpg', '30882_0006_1065855_region_1440055363687_52_line_1440055663525_66.jpg', '30882_0006_1065855_region_1440055363687_52_line_1440055672291_67.jpg', '30882_0006_1065855_region_1440055363687_52_line_1440055687942_68.jpg', '30882_0006_1065855_region_1440055363687_52_line_1440055699362_69.jpg', '30882_0006_1065855_region_1440055363687_52_line_1440055709822_70.jpg', '30882_0006_1065855_region_1440055363687_52_line_1440055717529_71.jpg', '30882_0006_1065855_region_1440055363687_52_line_1440055729141_72.jpg', '30882_0006_1065855_region_1440055363687_52_line_1440055740954_73.jpg', '30882_0006_1065855_region_1440055363687_52_line_1440055749516_74.jpg', '30882_0007_1065865_region_1440055788947_75_line_1440055810171_76.jpg', '30882_0007_1065865_region_1440055788947_75_line_1440055823899_77.jpg', '30882_0007_1065865_region_1440055788947_75_line_1440055835707_78.jpg', '30882_0007_1065865_region_1440055788947_75_line_1440056039968_79.jpg', '30882_0007_1065865_region_1440055788947_75_line_1440056054235_80.jpg', '30882_0007_1065865_region_1440055788947_75_line_1440056067470_81.jpg', '30882_0007_1065865_region_1440055788947_75_line_1440056079082_82.jpg', '30882_0007_1065865_region_1440055788947_75_line_1440056091254_83.jpg', '30882_0007_1065865_region_1440055788947_75_line_1440056105239_84.jpg', '30882_0007_1065865_region_1440055788947_75_line_1440056117318_85.jpg', '30882_0007_1065865_region_1440055788947_75_line_1440056317770_86.jpg', '30882_0007_1065865_region_1440055788947_75_line_1440056324482_87.jpg', '30882_0007_1065865_region_1440055788947_75_line_1440056336411_88.jpg', '30882_0007_1065865_region_1440055788947_75_line_1440056345850_89.jpg', '30882_0007_1065865_region_1440055788947_75_line_1440056360825_90.jpg', '30882_0007_1065865_region_1440055788947_75_line_1440056374068_91.jpg', '30882_0007_1065865_region_1440055788947_75_line_1440056385004_92.jpg', '30882_0007_1065865_region_1440055788947_75_line_1440056393441_93.jpg', '30882_0007_1065865_region_1440055788947_75_line_1440056403426_94.jpg', '30882_0007_1065865_region_1440055788947_75_line_1440056414202_95.jpg', '30882_0007_1065865_region_1440055788947_75_line_1440056426134_96.jpg']\n"
     ]
    }
   ],
   "source": [
    "with open(spec_lists_files[1], \"r\") as f:\n",
    "    \n",
    "    print(f.read().split())"
   ]
  },
  {
   "cell_type": "markdown",
   "metadata": {},
   "source": [
    "I should do subset analyses of the specific training files with each other and all the files that are present in the full set to try to make a develpment set"
   ]
  },
  {
   "cell_type": "code",
   "execution_count": 33,
   "metadata": {
    "collapsed": false
   },
   "outputs": [],
   "source": [
    "num = str(30882)\n",
    "\n",
    "spec_data = \"/home/ubuntu/datasets/read_ICFHR/specific_data\"\n",
    "spec_tr_lists_dir = \"/home/ubuntu/datasets/read_ICFHR/specific_data_train_list\"\n",
    "spec_lists_files = glob(os.path.join(spec_tr_lists_dir, \"*\"))\n",
    "\n",
    "total_files = glob(os.path.join(spec_data, num + \"_train\", \"*/*.jpg\"))\n",
    "base_files = set([os.path.basename(f) for f in total_files])\n",
    "\n",
    "list_1 = \"/home/ubuntu/datasets/read_ICFHR/specific_data_train_list/30882_train_1.lst\"\n",
    "list_4 = \"/home/ubuntu/datasets/read_ICFHR/specific_data_train_list/30882_train_4.lst\"\n",
    "list_16 = \"/home/ubuntu/datasets/read_ICFHR/specific_data_train_list/30882_train_16.lst\"\n",
    "\n",
    "fs_1 = set(open(list_1).read().split())\n",
    "fs_4 = set(open(list_4).read().split())\n",
    "fs_16 = set(open(list_16).read().split())"
   ]
  },
  {
   "cell_type": "markdown",
   "metadata": {},
   "source": [
    "The code below demonstrates that fs_16 is the same as the total number of files available, and each set of increasing number of pages is a strict subset of the greater page list. (I've shown it for collection 30882, but I am sure it is true for all)\n",
    "\n",
    "### Therefore, I think a good validation split for the tuning of training files is to select those files not in fs_4, train on those, then predict on fs_4. Then we should use this model for tuning with 1, 4 and 16 additional pages, as it should be the best model.\n",
    "### I will need to make a split for this \"fs_12\" and a split for all 1, 4, and 16 subsets for all the document types. Then we can experiment with fine tuning after I enable fine-tuning of convolutional layers.\n",
    "\n",
    "# I think once I've done this splitting and made lmdb databases of the same, then I can start figuring out how to do a results file from them."
   ]
  },
  {
   "cell_type": "code",
   "execution_count": 46,
   "metadata": {
    "collapsed": false
   },
   "outputs": [
    {
     "name": "stdout",
     "output_type": "stream",
     "text": [
      "0\n"
     ]
    }
   ],
   "source": [
    "# Union of all the training files\n",
    "train_subs = fs_16#fs_1 | fs_4 | fs_16\n",
    "\n",
    "# What remains of total from this union\n",
    "diff = base_files - train_subs\n",
    "\n",
    "# Is fs_1 a strict subset of fs_4?\n",
    "print(len(fs_1 - fs_4))\n",
    "# Yes"
   ]
  },
  {
   "cell_type": "code",
   "execution_count": 47,
   "metadata": {
    "collapsed": false
   },
   "outputs": [
    {
     "data": {
      "text/plain": [
       "84"
      ]
     },
     "execution_count": 47,
     "metadata": {},
     "output_type": "execute_result"
    }
   ],
   "source": [
    "len(fs_4)"
   ]
  },
  {
   "cell_type": "code",
   "execution_count": 41,
   "metadata": {
    "collapsed": false
   },
   "outputs": [
    {
     "data": {
      "text/plain": [
       "328"
      ]
     },
     "execution_count": 41,
     "metadata": {},
     "output_type": "execute_result"
    }
   ],
   "source": [
    "len(base_files)"
   ]
  },
  {
   "cell_type": "code",
   "execution_count": null,
   "metadata": {
    "collapsed": true
   },
   "outputs": [],
   "source": [
    "len()"
   ]
  },
  {
   "cell_type": "code",
   "execution_count": null,
   "metadata": {
    "collapsed": true
   },
   "outputs": [],
   "source": []
  }
 ],
 "metadata": {
  "kernelspec": {
   "display_name": "Python 2",
   "language": "python",
   "name": "python2"
  },
  "language_info": {
   "codemirror_mode": {
    "name": "ipython",
    "version": 2
   },
   "file_extension": ".py",
   "mimetype": "text/x-python",
   "name": "python",
   "nbconvert_exporter": "python",
   "pygments_lexer": "ipython2",
   "version": "2.7.11"
  }
 },
 "nbformat": 4,
 "nbformat_minor": 0
}
