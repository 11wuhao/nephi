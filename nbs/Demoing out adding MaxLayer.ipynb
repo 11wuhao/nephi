{
 "cells": [
  {
   "cell_type": "code",
   "execution_count": 6,
   "metadata": {
    "collapsed": true
   },
   "outputs": [],
   "source": [
    "import torch.nn as nn\n",
    "import torch as torch\n",
    "\n",
    "nc = 1\n",
    "nclass = 78\n",
    "nh = 256\n",
    "n_rnn = 2\n",
    "leakyRelu = False"
   ]
  },
  {
   "cell_type": "code",
   "execution_count": 7,
   "metadata": {
    "collapsed": false
   },
   "outputs": [],
   "source": [
    "\n",
    "ks = [3, 3, 3, 3, 3, 3, 2]\n",
    "ps = [1, 1, 1, 1, 1, 1, 0]\n",
    "ss = [1, 1, 1, 1, 1, 1, 1]\n",
    "nm = [64, 128, 256, 256, 512, 512, 512]\n",
    "cnn = nn.Sequential()\n",
    "\n",
    "def convRelu(i, batchNormalization=False):\n",
    "    nIn = nc if i == 0 else nm[i - 1]\n",
    "    nOut = nm[i]\n",
    "    cnn.add_module('conv{0}'.format(i),\n",
    "                   nn.Conv2d(nIn, nOut, ks[i], ss[i], ps[i]))\n",
    "    if batchNormalization:\n",
    "        cnn.add_module('batchnorm{0}'.format(i), nn.BatchNorm2d(nOut))\n",
    "    if leakyRelu:\n",
    "        cnn.add_module('relu{0}'.format(i),\n",
    "                       nn.LeakyReLU(0.2, inplace=True))\n",
    "    else:\n",
    "        cnn.add_module('relu{0}'.format(i), nn.ReLU(True))\n",
    "\n",
    "convRelu(0)\n",
    "cnn.add_module('pooling{0}'.format(0), nn.MaxPool2d(2, 2))  # 64x16x64\n",
    "convRelu(1)\n",
    "cnn.add_module('pooling{0}'.format(1), nn.MaxPool2d(2, 2))  # 128x8x32\n",
    "convRelu(2, True)\n",
    "convRelu(3)\n",
    "cnn.add_module('pooling{0}'.format(2),\n",
    "               nn.MaxPool2d((2, 2), (2, 1), (0, 1)))  # 256x4x16\n",
    "convRelu(4, True)\n",
    "convRelu(5)\n",
    "cnn.add_module('pooling{0}'.format(3),\n",
    "               nn.MaxPool2d((2, 2), (2, 1), (0, 1)))  # 512x2x16\n",
    "convRelu(6, True)  # 512x1x16"
   ]
  },
  {
   "cell_type": "code",
   "execution_count": 10,
   "metadata": {
    "collapsed": false
   },
   "outputs": [
    {
     "ename": "TypeError",
     "evalue": "torch.max received an invalid combination of arguments - got (Sequential), but expected one of:\n * (torch.FloatTensor source)\n      didn't match because some of the arguments have invalid types: (\u001b[31;1mSequential\u001b[0m)\n * (torch.FloatTensor source, torch.FloatTensor other)\n * (torch.FloatTensor source, int dim)\n",
     "output_type": "error",
     "traceback": [
      "\u001b[1;31m---------------------------------------------------------------------------\u001b[0m",
      "\u001b[1;31mTypeError\u001b[0m                                 Traceback (most recent call last)",
      "\u001b[1;32m<ipython-input-10-93025b425543>\u001b[0m in \u001b[0;36m<module>\u001b[1;34m()\u001b[0m\n\u001b[0;32m      1\u001b[0m \u001b[1;31m# Adding the max layer\u001b[0m\u001b[1;33m\u001b[0m\u001b[1;33m\u001b[0m\u001b[0m\n\u001b[1;32m----> 2\u001b[1;33m \u001b[0mcnn\u001b[0m\u001b[1;33m.\u001b[0m\u001b[0madd_module\u001b[0m\u001b[1;33m(\u001b[0m\u001b[1;34m'pooling{0}'\u001b[0m\u001b[1;33m.\u001b[0m\u001b[0mformat\u001b[0m\u001b[1;33m(\u001b[0m\u001b[1;36m4\u001b[0m\u001b[1;33m)\u001b[0m\u001b[1;33m,\u001b[0m \u001b[0mtorch\u001b[0m\u001b[1;33m.\u001b[0m\u001b[0mmax\u001b[0m\u001b[1;33m(\u001b[0m\u001b[0mcnn\u001b[0m\u001b[1;33m)\u001b[0m\u001b[1;33m)\u001b[0m\u001b[1;33m\u001b[0m\u001b[0m\n\u001b[0m",
      "\u001b[1;31mTypeError\u001b[0m: torch.max received an invalid combination of arguments - got (Sequential), but expected one of:\n * (torch.FloatTensor source)\n      didn't match because some of the arguments have invalid types: (\u001b[31;1mSequential\u001b[0m)\n * (torch.FloatTensor source, torch.FloatTensor other)\n * (torch.FloatTensor source, int dim)\n"
     ]
    }
   ],
   "source": [
    "# Adding the max layer\n",
    "\n",
    "\n",
    "cnn.add_module('pooling{0}'.format(4), torch.max(cnn))\n"
   ]
  },
  {
   "cell_type": "code",
   "execution_count": null,
   "metadata": {
    "collapsed": true
   },
   "outputs": [],
   "source": []
  }
 ],
 "metadata": {
  "kernelspec": {
   "display_name": "Python 2",
   "language": "python",
   "name": "python2"
  },
  "language_info": {
   "codemirror_mode": {
    "name": "ipython",
    "version": 2
   },
   "file_extension": ".py",
   "mimetype": "text/x-python",
   "name": "python",
   "nbconvert_exporter": "python",
   "pygments_lexer": "ipython2",
   "version": "2.7.11"
  }
 },
 "nbformat": 4,
 "nbformat_minor": 0
}
